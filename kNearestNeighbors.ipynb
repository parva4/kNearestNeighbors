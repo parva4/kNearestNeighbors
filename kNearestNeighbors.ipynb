{
  "nbformat": 4,
  "nbformat_minor": 0,
  "metadata": {
    "colab": {
      "provenance": []
    },
    "kernelspec": {
      "name": "python3",
      "display_name": "Python 3"
    },
    "language_info": {
      "name": "python"
    }
  },
  "cells": [
    {
      "cell_type": "code",
      "execution_count": null,
      "metadata": {
        "id": "Z8qbRUlSSGre"
      },
      "outputs": [],
      "source": [
        "from sklearn.datasets import make_blobs\n",
        "import numpy as np\n",
        "from sklearn.metrics import mean_squared_error\n",
        "import matplotlib.pyplot as plt\n",
        "from sklearn.model_selection import train_test_split\n",
        "import pandas as pd\n",
        "from collections import Counter\n",
        "from tqdm import tqdm"
      ]
    },
    {
      "cell_type": "code",
      "source": [
        "X, y = make_blobs(n_samples=5000,\n",
        "                  n_features=2,\n",
        "                  centers=3,\n",
        "                  shuffle=True,\n",
        "                  random_state=42)"
      ],
      "metadata": {
        "id": "EY-BXCAGSKxH"
      },
      "execution_count": null,
      "outputs": []
    },
    {
      "cell_type": "code",
      "source": [
        "class KNearestNeighbors:\n",
        "\n",
        "  def __init__(self,X,y,k=3):\n",
        "    self.X = X\n",
        "    self.y = y\n",
        "    self.k = k\n",
        "\n",
        "  def Xsplit(self,X,y):\n",
        "    X_train, X_test, y_train, y_test = train_test_split(X,\n",
        "                                                        y,\n",
        "                                                        train_size=0.75,\n",
        "                                                        shuffle=True,\n",
        "                                                        random_state=42)\n",
        "    return X_train,X_test,y_train,y_test\n",
        "\n",
        "  def normalize_Xtrain(self,X):\n",
        "    mean = np.mean(X,0)\n",
        "    std = np.std(X,0)\n",
        "    return (X-mean)/std,mean,std\n",
        "\n",
        "  def normalize_Xtest(self,X,mean,std):\n",
        "    return (X-mean)/std\n",
        "\n",
        "  def kNearestalgo(self,X_train,y_train,k):\n",
        "    predicted = []\n",
        "    for i in tqdm(range(X_train.shape[0])):\n",
        "      euc_distances = np.sqrt(np.sum((X_train[i] - X_train)**2,1))\n",
        "      indices = np.argsort(euc_distances)\n",
        "      y_shuffled = y_train[indices]\n",
        "      output_classes = y_shuffled[1 : k+1]\n",
        "      class_count = Counter(output_classes)\n",
        "      predicted_class = max(class_count,key=class_count.get)\n",
        "      predicted.append(predicted_class)\n",
        "\n",
        "    return predicted\n",
        "\n",
        "  def predict(self,X_test,y_test,k):\n",
        "    X_train, X_test, y_train, y_test = self.Xsplit(self.X,self.y)\n",
        "    train_pred = np.array(self.kNearestalgo(X_train,y_train,k))\n",
        "    test_pred = []\n",
        "\n",
        "    for data_pt in X_test:\n",
        "      euc_distance = np.sqrt(np.sum((data_pt-X_train)**2,1))\n",
        "      indices = np.argsort(euc_distance)\n",
        "      shuffled_pred_train = train_pred[indices]\n",
        "      top_k_classes = shuffled_pred_train[1 : k+1]\n",
        "      class_count = Counter(top_k_classes)\n",
        "      predicted_class = max(class_count,key=class_count.get)\n",
        "      test_pred.append(predicted_class)\n",
        "\n",
        "    df = pd.DataFrame({'actual' : y_test,\n",
        "                      'predicted' : test_pred})\n",
        "    print(df.shape)\n",
        "\n",
        "  def execute(self):\n",
        "    X_train, X_test, y_train, y_test = self.Xsplit(self.X,self.y)\n",
        "    X_train, mean, std = self.normalize_Xtrain(X_train)\n",
        "    self.predict(X_train,y_train,self.k)"
      ],
      "metadata": {
        "id": "dfcHkb8USMGM"
      },
      "execution_count": null,
      "outputs": []
    },
    {
      "cell_type": "code",
      "source": [
        "km = KNearestNeighbors(X,y,5)"
      ],
      "metadata": {
        "id": "QAVu_uZgSNnM"
      },
      "execution_count": null,
      "outputs": []
    },
    {
      "cell_type": "code",
      "source": [
        "km.execute()"
      ],
      "metadata": {
        "id": "sV0vJ2BFSPIm"
      },
      "execution_count": null,
      "outputs": []
    }
  ]
}
